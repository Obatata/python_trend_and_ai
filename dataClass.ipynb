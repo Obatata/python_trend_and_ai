{
 "cells": [
  {
   "cell_type": "markdown",
   "metadata": {},
   "source": [
    "# 1. Define class"
   ]
  },
  {
   "cell_type": "markdown",
   "metadata": {},
   "source": [
    "## 1.1 standard python syntax"
   ]
  },
  {
   "cell_type": "code",
   "execution_count": 1,
   "metadata": {},
   "outputs": [],
   "source": [
    "class Person():\n",
    "    def __init__(self, first_name, last_name, age, job):\n",
    "        self.first_name = first_name\n",
    "        self.last_name = last_name\n",
    "        self.age = age\n",
    "        self.job = job\n",
    "        "
   ]
  },
  {
   "cell_type": "code",
   "execution_count": 3,
   "metadata": {},
   "outputs": [],
   "source": [
    "p1 = Person('Oussama', 'BATATA', 25, 'Data scientist')"
   ]
  },
  {
   "cell_type": "markdown",
   "metadata": {},
   "source": [
    "## 1.2 dataClass python syntax"
   ]
  },
  {
   "cell_type": "code",
   "execution_count": 12,
   "metadata": {},
   "outputs": [],
   "source": [
    "from dataclasses import dataclass\n",
    "\n",
    "@dataclass\n",
    "class Person:\n",
    "    first_name: str\n",
    "    last_name: str\n",
    "    age: int\n",
    "    job: str"
   ]
  },
  {
   "cell_type": "code",
   "execution_count": 34,
   "metadata": {
    "pycharm": {
     "name": "#%%\n"
    }
   },
   "outputs": [
    {
     "name": "stdout",
     "output_type": "stream",
     "text": [
      "False\n"
     ]
    }
   ],
   "source": [
    "ous = Person(\"Ouss\", \"Bat\", 30, \"AI solution\")\n",
    "nou = Person(\"Nounou\", \"Batata\", 25, \"Research science\")\n",
    "\"\"\"\n",
    "Operateur eq !!!\n",
    "\"\"\"\n",
    "print(nou == ous)"
   ]
  },
  {
   "cell_type": "code",
   "execution_count": 20,
   "outputs": [
    {
     "name": "stdout",
     "output_type": "stream",
     "text": [
      "[('__eq__', <function __create_fn__.<locals>.__eq__ at 0x00000251068419D0>),\n",
      " ('__init__', <function __create_fn__.<locals>.__init__ at 0x0000025106841940>),\n",
      " ('__repr__', <function __create_fn__.<locals>.__repr__ at 0x00000251068418B0>)]\n"
     ]
    }
   ],
   "source": [
    "import inspect\n",
    "from pprint import pprint\n",
    "pprint(inspect.getmembers(Person, inspect.isfunction))"
   ],
   "metadata": {
    "collapsed": false,
    "pycharm": {
     "name": "#%%\n"
    }
   }
  },
  {
   "cell_type": "markdown",
   "source": [
    "# 2. Support for default values"
   ],
   "metadata": {
    "collapsed": false,
    "pycharm": {
     "name": "#%% md\n"
    }
   }
  },
  {
   "cell_type": "code",
   "execution_count": 21,
   "outputs": [],
   "source": [
    "from dataclasses import dataclass\n",
    "\n",
    "@dataclass\n",
    "class Person:\n",
    "    first_name: str = \"Si Oussama\"\n",
    "    last_name: str = \"BATATA\"\n",
    "    age:int = 30\n",
    "    job:str = \"AI solution\""
   ],
   "metadata": {
    "collapsed": false,
    "pycharm": {
     "name": "#%%\n"
    }
   }
  },
  {
   "cell_type": "code",
   "execution_count": 22,
   "outputs": [
    {
     "name": "stdout",
     "output_type": "stream",
     "text": [
      "Person(first_name='Si Oussama', last_name='BATATA', age=30, job='AI solution')\n"
     ]
    }
   ],
   "source": [
    "test_ouss = Person()\n",
    "print(test_ouss)"
   ],
   "metadata": {
    "collapsed": false,
    "pycharm": {
     "name": "#%%\n"
    }
   }
  },
  {
   "cell_type": "markdown",
   "source": [
    "### field with default value must come after field without field"
   ],
   "metadata": {
    "collapsed": false,
    "pycharm": {
     "name": "#%% md\n"
    }
   }
  },
  {
   "cell_type": "markdown",
   "source": [
    "## 2.1 wrong way"
   ],
   "metadata": {
    "collapsed": false,
    "pycharm": {
     "name": "#%% md\n"
    }
   }
  },
  {
   "cell_type": "code",
   "execution_count": 23,
   "outputs": [
    {
     "ename": "TypeError",
     "evalue": "non-default argument 'hobbies' follows default argument",
     "output_type": "error",
     "traceback": [
      "\u001B[1;31m---------------------------------------------------------------------------\u001B[0m",
      "\u001B[1;31mTypeError\u001B[0m                                 Traceback (most recent call last)",
      "\u001B[1;32m<ipython-input-23-4715f8d05b30>\u001B[0m in \u001B[0;36m<module>\u001B[1;34m\u001B[0m\n\u001B[0;32m      2\u001B[0m \u001B[1;33m\u001B[0m\u001B[0m\n\u001B[0;32m      3\u001B[0m \u001B[1;33m@\u001B[0m\u001B[0mdataclass\u001B[0m\u001B[1;33m\u001B[0m\u001B[1;33m\u001B[0m\u001B[0m\n\u001B[1;32m----> 4\u001B[1;33m \u001B[1;32mclass\u001B[0m \u001B[0mPerson\u001B[0m\u001B[1;33m:\u001B[0m\u001B[1;33m\u001B[0m\u001B[1;33m\u001B[0m\u001B[0m\n\u001B[0m\u001B[0;32m      5\u001B[0m     \u001B[0mfirst_name\u001B[0m\u001B[1;33m:\u001B[0m \u001B[0mstr\u001B[0m \u001B[1;33m=\u001B[0m \u001B[1;34m\"Ahmed\"\u001B[0m\u001B[1;33m\u001B[0m\u001B[1;33m\u001B[0m\u001B[0m\n\u001B[0;32m      6\u001B[0m     \u001B[0mlast_name\u001B[0m\u001B[1;33m:\u001B[0m \u001B[0mstr\u001B[0m \u001B[1;33m=\u001B[0m \u001B[1;34m\"Besbes\"\u001B[0m\u001B[1;33m\u001B[0m\u001B[1;33m\u001B[0m\u001B[0m\n",
      "\u001B[1;32m~\\Anaconda3\\lib\\dataclasses.py\u001B[0m in \u001B[0;36mdataclass\u001B[1;34m(cls, init, repr, eq, order, unsafe_hash, frozen)\u001B[0m\n\u001B[0;32m   1017\u001B[0m \u001B[1;33m\u001B[0m\u001B[0m\n\u001B[0;32m   1018\u001B[0m     \u001B[1;31m# We're called as @dataclass without parens.\u001B[0m\u001B[1;33m\u001B[0m\u001B[1;33m\u001B[0m\u001B[1;33m\u001B[0m\u001B[0m\n\u001B[1;32m-> 1019\u001B[1;33m     \u001B[1;32mreturn\u001B[0m \u001B[0mwrap\u001B[0m\u001B[1;33m(\u001B[0m\u001B[0mcls\u001B[0m\u001B[1;33m)\u001B[0m\u001B[1;33m\u001B[0m\u001B[1;33m\u001B[0m\u001B[0m\n\u001B[0m\u001B[0;32m   1020\u001B[0m \u001B[1;33m\u001B[0m\u001B[0m\n\u001B[0;32m   1021\u001B[0m \u001B[1;33m\u001B[0m\u001B[0m\n",
      "\u001B[1;32m~\\Anaconda3\\lib\\dataclasses.py\u001B[0m in \u001B[0;36mwrap\u001B[1;34m(cls)\u001B[0m\n\u001B[0;32m   1009\u001B[0m \u001B[1;33m\u001B[0m\u001B[0m\n\u001B[0;32m   1010\u001B[0m     \u001B[1;32mdef\u001B[0m \u001B[0mwrap\u001B[0m\u001B[1;33m(\u001B[0m\u001B[0mcls\u001B[0m\u001B[1;33m)\u001B[0m\u001B[1;33m:\u001B[0m\u001B[1;33m\u001B[0m\u001B[1;33m\u001B[0m\u001B[0m\n\u001B[1;32m-> 1011\u001B[1;33m         \u001B[1;32mreturn\u001B[0m \u001B[0m_process_class\u001B[0m\u001B[1;33m(\u001B[0m\u001B[0mcls\u001B[0m\u001B[1;33m,\u001B[0m \u001B[0minit\u001B[0m\u001B[1;33m,\u001B[0m \u001B[0mrepr\u001B[0m\u001B[1;33m,\u001B[0m \u001B[0meq\u001B[0m\u001B[1;33m,\u001B[0m \u001B[0morder\u001B[0m\u001B[1;33m,\u001B[0m \u001B[0munsafe_hash\u001B[0m\u001B[1;33m,\u001B[0m \u001B[0mfrozen\u001B[0m\u001B[1;33m)\u001B[0m\u001B[1;33m\u001B[0m\u001B[1;33m\u001B[0m\u001B[0m\n\u001B[0m\u001B[0;32m   1012\u001B[0m \u001B[1;33m\u001B[0m\u001B[0m\n\u001B[0;32m   1013\u001B[0m     \u001B[1;31m# See if we're being called as @dataclass or @dataclass().\u001B[0m\u001B[1;33m\u001B[0m\u001B[1;33m\u001B[0m\u001B[1;33m\u001B[0m\u001B[0m\n",
      "\u001B[1;32m~\\Anaconda3\\lib\\dataclasses.py\u001B[0m in \u001B[0;36m_process_class\u001B[1;34m(cls, init, repr, eq, order, unsafe_hash, frozen)\u001B[0m\n\u001B[0;32m    923\u001B[0m                 if f._field_type in (_FIELD, _FIELD_INITVAR)]\n\u001B[0;32m    924\u001B[0m         _set_new_attribute(cls, '__init__',\n\u001B[1;32m--> 925\u001B[1;33m                            _init_fn(flds,\n\u001B[0m\u001B[0;32m    926\u001B[0m                                     \u001B[0mfrozen\u001B[0m\u001B[1;33m,\u001B[0m\u001B[1;33m\u001B[0m\u001B[1;33m\u001B[0m\u001B[0m\n\u001B[0;32m    927\u001B[0m                                     \u001B[0mhas_post_init\u001B[0m\u001B[1;33m,\u001B[0m\u001B[1;33m\u001B[0m\u001B[1;33m\u001B[0m\u001B[0m\n",
      "\u001B[1;32m~\\Anaconda3\\lib\\dataclasses.py\u001B[0m in \u001B[0;36m_init_fn\u001B[1;34m(fields, frozen, has_post_init, self_name, globals)\u001B[0m\n\u001B[0;32m    500\u001B[0m                 \u001B[0mseen_default\u001B[0m \u001B[1;33m=\u001B[0m \u001B[1;32mTrue\u001B[0m\u001B[1;33m\u001B[0m\u001B[1;33m\u001B[0m\u001B[0m\n\u001B[0;32m    501\u001B[0m             \u001B[1;32melif\u001B[0m \u001B[0mseen_default\u001B[0m\u001B[1;33m:\u001B[0m\u001B[1;33m\u001B[0m\u001B[1;33m\u001B[0m\u001B[0m\n\u001B[1;32m--> 502\u001B[1;33m                 raise TypeError(f'non-default argument {f.name!r} '\n\u001B[0m\u001B[0;32m    503\u001B[0m                                 'follows default argument')\n\u001B[0;32m    504\u001B[0m \u001B[1;33m\u001B[0m\u001B[0m\n",
      "\u001B[1;31mTypeError\u001B[0m: non-default argument 'hobbies' follows default argument"
     ]
    }
   ],
   "source": [
    "from dataclasses import dataclass\n",
    "\n",
    "@dataclass\n",
    "class Person:\n",
    "    first_name: str = \"Ahmed\"\n",
    "    last_name: str = \"Besbes\"\n",
    "    age: int = 30\n",
    "    job: str = \"Data Scientist\"\n",
    "    hobbies: str"
   ],
   "metadata": {
    "collapsed": false,
    "pycharm": {
     "name": "#%%\n"
    }
   }
  },
  {
   "cell_type": "markdown",
   "source": [
    "## 2.2 Correct way"
   ],
   "metadata": {
    "collapsed": false,
    "pycharm": {
     "name": "#%% md\n"
    }
   }
  },
  {
   "cell_type": "code",
   "execution_count": 24,
   "outputs": [],
   "source": [
    "from dataclasses import dataclass\n",
    "\n",
    "@dataclass\n",
    "class Person:\n",
    "    hobbies: str\n",
    "    first_name: str = \"Ahmed\"\n",
    "    last_name: str = \"Besbes\"\n",
    "    age: int = 30\n",
    "    job: str = \"Data Scientist\""
   ],
   "metadata": {
    "collapsed": false,
    "pycharm": {
     "name": "#%%\n"
    }
   }
  },
  {
   "cell_type": "markdown",
   "source": [
    "# 3. Custom representations of the objects"
   ],
   "metadata": {
    "collapsed": false,
    "pycharm": {
     "name": "#%% md\n"
    }
   }
  },
  {
   "cell_type": "code",
   "execution_count": 28,
   "outputs": [
    {
     "name": "stdout",
     "output_type": "stream",
     "text": [
      "Ahmed Besbes (30)\n"
     ]
    }
   ],
   "source": [
    "@dataclass\n",
    "class Person:\n",
    "    first_name: str = \"Ahmed\"\n",
    "    last_name: str = \"Besbes\"\n",
    "    age: int = 30\n",
    "    job: str = \"Data Scientist\"\n",
    "\n",
    "    def __repr__(self):\n",
    "        return f\"{self.first_name} {self.last_name} ({self.age})\"\n",
    "\n",
    "ahmed = Person()\n",
    "print(ahmed)"
   ],
   "metadata": {
    "collapsed": false,
    "pycharm": {
     "name": "#%%\n"
    }
   }
  },
  {
   "cell_type": "markdown",
   "source": [
    "# 4. Easy conversion to a tuple or a dictionary"
   ],
   "metadata": {
    "collapsed": false,
    "pycharm": {
     "name": "#%% md\n"
    }
   }
  },
  {
   "cell_type": "code",
   "execution_count": 29,
   "outputs": [
    {
     "name": "stdout",
     "output_type": "stream",
     "text": [
      "asdict\n",
      "{'first_name': 'Si Oussama', 'last_name': 'BATATA', 'age': 30, 'job': 'AI solution'}\n",
      "astuple\n",
      "('Si Oussama', 'BATATA', 30, 'AI solution')\n"
     ]
    }
   ],
   "source": [
    "from dataclasses import astuple, asdict\n",
    "\n",
    "from dataclasses import dataclass\n",
    "\n",
    "@dataclass\n",
    "class Person:\n",
    "    first_name: str = \"Si Oussama\"\n",
    "    last_name: str = \"BATATA\"\n",
    "    age:int = 30\n",
    "    job:str = \"AI solution\"\n",
    "\n",
    "oussama = Person()\n",
    "\n",
    "\"\"\"\n",
    "dict\n",
    "\"\"\"\n",
    "print(\"asdict\")\n",
    "print(asdict(oussama))\n",
    "\n",
    "\"\"\"\n",
    "tuple\n",
    "\"\"\"\n",
    "print(\"astuple\")\n",
    "print(astuple(oussama))"
   ],
   "metadata": {
    "collapsed": false,
    "pycharm": {
     "name": "#%%\n"
    }
   }
  },
  {
   "cell_type": "markdown",
   "source": [
    "# 5. Frozen instances / immutable objects"
   ],
   "metadata": {
    "collapsed": false,
    "pycharm": {
     "name": "#%% md\n"
    }
   }
  },
  {
   "cell_type": "code",
   "execution_count": 30,
   "outputs": [],
   "source": [
    "@dataclass(frozen=True)\n",
    "class Person:\n",
    "    first_name: str = \"Ahmed\"\n",
    "    last_name: str = \"Besbes\"\n",
    "    age: int = 30\n",
    "    job: str = \"Data Scientist\""
   ],
   "metadata": {
    "collapsed": false,
    "pycharm": {
     "name": "#%%\n"
    }
   }
  },
  {
   "cell_type": "markdown",
   "source": [
    "### When you do this, you prevent anyone from modifying the values of the attributes once the object is instantiated.\n",
    "### If you try to set a frozen object’s attribute to a new value, a FrozenInstanceError error will be raised."
   ],
   "metadata": {
    "collapsed": false,
    "pycharm": {
     "name": "#%% md\n"
    }
   }
  },
  {
   "cell_type": "code",
   "execution_count": 32,
   "outputs": [
    {
     "name": "stdout",
     "output_type": "stream",
     "text": [
      "Person(first_name='Ahmed', last_name='Besbes', age=30, job='Data Scientist')\n"
     ]
    }
   ],
   "source": [
    "ahmed = Person()\n",
    "print(ahmed)"
   ],
   "metadata": {
    "collapsed": false,
    "pycharm": {
     "name": "#%%\n"
    }
   }
  },
  {
   "cell_type": "code",
   "execution_count": 33,
   "outputs": [
    {
     "ename": "FrozenInstanceError",
     "evalue": "cannot assign to field 'first_name'",
     "output_type": "error",
     "traceback": [
      "\u001B[1;31m---------------------------------------------------------------------------\u001B[0m",
      "\u001B[1;31mFrozenInstanceError\u001B[0m                       Traceback (most recent call last)",
      "\u001B[1;32m<ipython-input-33-db3d03feeafc>\u001B[0m in \u001B[0;36m<module>\u001B[1;34m\u001B[0m\n\u001B[0;32m      4\u001B[0m \u001B[0myou\u001B[0m \u001B[0mwill\u001B[0m \u001B[0mget\u001B[0m \u001B[0merror\u001B[0m\u001B[1;33m\u001B[0m\u001B[1;33m\u001B[0m\u001B[0m\n\u001B[0;32m      5\u001B[0m \"\"\"\n\u001B[1;32m----> 6\u001B[1;33m \u001B[0mahmed\u001B[0m\u001B[1;33m.\u001B[0m\u001B[0mfirst_name\u001B[0m \u001B[1;33m=\u001B[0m \u001B[1;34m\"Oussama\"\u001B[0m\u001B[1;33m\u001B[0m\u001B[1;33m\u001B[0m\u001B[0m\n\u001B[0m",
      "\u001B[1;32m<string>\u001B[0m in \u001B[0;36m__setattr__\u001B[1;34m(self, name, value)\u001B[0m\n",
      "\u001B[1;31mFrozenInstanceError\u001B[0m: cannot assign to field 'first_name'"
     ]
    }
   ],
   "source": [
    "\"\"\"\n",
    "Be carful\n",
    "forzen object\n",
    "you will get error\n",
    "\"\"\"\n",
    "ahmed.first_name = \"Oussama\""
   ],
   "metadata": {
    "collapsed": false,
    "pycharm": {
     "name": "#%%\n"
    }
   }
  },
  {
   "cell_type": "markdown",
   "source": [
    "# 6. Custom attribute behaviour with the field function"
   ],
   "metadata": {
    "collapsed": false,
    "pycharm": {
     "name": "#%% md\n"
    }
   }
  },
  {
   "cell_type": "markdown",
   "source": [
    "### In some situations, you may need to create an attribute that is only defined internally, not when the class is instantiated. This may be the case when the attribute has a value that depends on previously-set attributes.\n",
    "### Here’s where you’d use the field function from dataclasses.\n",
    "### By using this function and setting itsinit and repr arguments to False to create a new field called full_name, we can still instantiate the Person class without setting the full_name attribute."
   ],
   "metadata": {
    "collapsed": false,
    "pycharm": {
     "name": "#%% md\n"
    }
   }
  },
  {
   "cell_type": "code",
   "execution_count": 35,
   "outputs": [],
   "source": [
    "from dataclasses import dataclass, field\n",
    "\n",
    "@dataclass\n",
    "class Person:\n",
    "    first_name: str = \"Ahmed\"\n",
    "    last_name: str = \"Besbes\"\n",
    "    age: int = 30\n",
    "    job: str = \"Data Scientist\"\n",
    "    full_name: str = field(init=False, repr=False)"
   ],
   "metadata": {
    "collapsed": false,
    "pycharm": {
     "name": "#%%\n"
    }
   }
  },
  {
   "cell_type": "code",
   "execution_count": 38,
   "outputs": [
    {
     "ename": "TypeError",
     "evalue": "__init__() got an unexpected keyword argument 'full_name'",
     "output_type": "error",
     "traceback": [
      "\u001B[1;31m---------------------------------------------------------------------------\u001B[0m",
      "\u001B[1;31mTypeError\u001B[0m                                 Traceback (most recent call last)",
      "\u001B[1;32m<ipython-input-38-77a7ce37f153>\u001B[0m in \u001B[0;36m<module>\u001B[1;34m\u001B[0m\n\u001B[0;32m      3\u001B[0m \"\"\"\n\u001B[0;32m      4\u001B[0m \u001B[1;33m\u001B[0m\u001B[0m\n\u001B[1;32m----> 5\u001B[1;33m \u001B[0mous\u001B[0m \u001B[1;33m=\u001B[0m \u001B[0mPerson\u001B[0m\u001B[1;33m(\u001B[0m\u001B[0mfirst_name\u001B[0m\u001B[1;33m=\u001B[0m\u001B[1;34m\"some\"\u001B[0m\u001B[1;33m,\u001B[0m \u001B[0mlast_name\u001B[0m\u001B[1;33m=\u001B[0m\u001B[1;34m\"person\"\u001B[0m\u001B[1;33m,\u001B[0m \u001B[0mfull_name\u001B[0m \u001B[1;33m=\u001B[0m \u001B[1;34m\"some person \"\u001B[0m\u001B[1;33m)\u001B[0m\u001B[1;33m\u001B[0m\u001B[1;33m\u001B[0m\u001B[0m\n\u001B[0m",
      "\u001B[1;31mTypeError\u001B[0m: __init__() got an unexpected keyword argument 'full_name'"
     ]
    }
   ],
   "source": [
    "\"\"\"\n",
    "test with init :\n",
    "\"\"\"\n",
    "\n",
    "ous = Person(first_name=\"some\", last_name=\"person\", full_name = \"some person \")"
   ],
   "metadata": {
    "collapsed": false,
    "pycharm": {
     "name": "#%%\n"
    }
   }
  },
  {
   "cell_type": "code",
   "execution_count": 39,
   "outputs": [
    {
     "ename": "AttributeError",
     "evalue": "type object 'Person' has no attribute 'full_name'",
     "output_type": "error",
     "traceback": [
      "\u001B[1;31m---------------------------------------------------------------------------\u001B[0m",
      "\u001B[1;31mAttributeError\u001B[0m                            Traceback (most recent call last)",
      "\u001B[1;32m<ipython-input-39-a851c9f85377>\u001B[0m in \u001B[0;36m<module>\u001B[1;34m\u001B[0m\n\u001B[0;32m      3\u001B[0m \"\"\"\n\u001B[0;32m      4\u001B[0m \u001B[1;33m\u001B[0m\u001B[0m\n\u001B[1;32m----> 5\u001B[1;33m \u001B[0mprint\u001B[0m\u001B[1;33m(\u001B[0m\u001B[0mPerson\u001B[0m\u001B[1;33m.\u001B[0m\u001B[0mfull_name\u001B[0m\u001B[1;33m)\u001B[0m\u001B[1;33m\u001B[0m\u001B[1;33m\u001B[0m\u001B[0m\n\u001B[0m",
      "\u001B[1;31mAttributeError\u001B[0m: type object 'Person' has no attribute 'full_name'"
     ]
    }
   ],
   "source": [
    "\"\"\"\n",
    "test with repr\n",
    "\"\"\"\n",
    "\n",
    "print(Person.full_name)"
   ],
   "metadata": {
    "collapsed": false,
    "pycharm": {
     "name": "#%%\n"
    }
   }
  },
  {
   "cell_type": "markdown",
   "source": [
    "# 7. The __post_init__ hook"
   ],
   "metadata": {
    "collapsed": false,
    "pycharm": {
     "name": "#%% md\n"
    }
   }
  },
  {
   "cell_type": "markdown",
   "source": [
    "### dataclasses has a special method called __post_init__ .\n",
    "### As the name clearly suggests, this method is called right after the __init__ method is called.\n",
    "### Going back to the previous example, we can see how this method can be called to initialize an internal\n",
    "### attribute that depends on previously set attributes."
   ],
   "metadata": {
    "collapsed": false,
    "pycharm": {
     "name": "#%% md\n"
    }
   }
  },
  {
   "cell_type": "code",
   "execution_count": 40,
   "outputs": [
    {
     "name": "stdout",
     "output_type": "stream",
     "text": [
      "Person(first_name='Ahmed', last_name='Besbes', age=30, job='Data Scientist', full_name='Ahmed Besbes')\n"
     ]
    },
    {
     "data": {
      "text/plain": "'Ahmed Besbes'"
     },
     "execution_count": 40,
     "metadata": {},
     "output_type": "execute_result"
    }
   ],
   "source": [
    "@dataclass\n",
    "class Person:\n",
    "    first_name: str = \"Ahmed\"\n",
    "    last_name: str = \"Besbes\"\n",
    "    age: int = 30\n",
    "    job: str = \"Data Scientist\"\n",
    "\n",
    "\n",
    "    \"\"\"\n",
    "    Note that the repr argument inside the field function has been set to True\n",
    "    to make it visible when the object is printed. We couldn’t set this argument\n",
    "    to True in the previous example because the attribute full_name has not been created yet\n",
    "    \"\"\"\n",
    "    full_name: str = field(init=False, repr=True)\n",
    "\n",
    "\n",
    "    def __post_init__(self):\n",
    "        self.full_name = self.first_name + \" \" + self.last_name\n",
    "\n",
    "ahmed = Person()\n",
    "print(ahmed)\n",
    "# Person(first_name='Ahmed', last_name='Besbes', age=30, job='Data Scientist', full_name='Ahmed Besbes')\n",
    "\n",
    "ahmed.full_name"
   ],
   "metadata": {
    "collapsed": false,
    "pycharm": {
     "name": "#%%\n"
    }
   }
  },
  {
   "cell_type": "markdown",
   "source": [],
   "metadata": {
    "collapsed": false,
    "pycharm": {
     "name": "#%% md\n"
    }
   }
  }
 ],
 "metadata": {
  "kernelspec": {
   "display_name": "Python 3",
   "language": "python",
   "name": "python3"
  },
  "language_info": {
   "codemirror_mode": {
    "name": "ipython",
    "version": 3
   },
   "file_extension": ".py",
   "mimetype": "text/x-python",
   "name": "python",
   "nbconvert_exporter": "python",
   "pygments_lexer": "ipython3",
   "version": "3.8.3"
  }
 },
 "nbformat": 4,
 "nbformat_minor": 4
}