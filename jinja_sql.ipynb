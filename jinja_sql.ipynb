{
 "cells": [
  {
   "cell_type": "markdown",
   "metadata": {
    "collapsed": true,
    "pycharm": {
     "name": "#%% md\n"
    }
   },
   "source": [
    "# 1. Basic parameter substitution"
   ]
  },
  {
   "cell_type": "markdown",
   "source": [
    "### 1.1 SQL query context\n"
   ],
   "metadata": {
    "collapsed": false,
    "pycharm": {
     "name": "#%% md\n"
    }
   }
  },
  {
   "cell_type": "markdown",
   "source": [
    "\n",
    "    select\n",
    "        user_id\n",
    "        , count(*) as num_transactions\n",
    "        , sum(amount) as total_amount\n",
    "    from\n",
    "        transactions\n",
    "    where\n",
    "        user_id = 1234\n",
    "        and transaction_date = '2019-03-02'\n",
    "    group by\n",
    "        user_id"
   ],
   "metadata": {
    "collapsed": false,
    "pycharm": {
     "name": "#%% md\n"
    }
   }
  },
  {
   "cell_type": "markdown",
   "source": [
    "### 1.2 Jinja python query context\n"
   ],
   "metadata": {
    "collapsed": false,
    "pycharm": {
     "name": "#%% md\n"
    }
   }
  },
  {
   "cell_type": "code",
   "source": [
    "\"\"\"\n",
    "Ecrire la requête sous forme de string\n",
    "indiquer les variables avec un nom et double braques\n",
    "\"\"\"\n",
    "\n",
    "user_transaction_template = '''\n",
    "select\n",
    "    user_id\n",
    "    , count(*) as num_transactions\n",
    "    , sum(amount) as total_amount\n",
    "from\n",
    "    transactions\n",
    "where\n",
    "    user_id = {{ user_id }}\n",
    "    and transaction_date = {{ transaction_date }}\n",
    "group by\n",
    "    user_id\n",
    "'''"
   ],
   "metadata": {
    "collapsed": false,
    "pycharm": {
     "name": "#%%\n"
    }
   },
   "execution_count": 37,
   "outputs": []
  },
  {
   "cell_type": "markdown",
   "source": [
    "variables names = names enclosed in double curly braces {{ }}"
   ],
   "metadata": {
    "collapsed": false,
    "pycharm": {
     "name": "#%% md\n"
    }
   }
  },
  {
   "cell_type": "code",
   "execution_count": 38,
   "outputs": [],
   "source": [
    "params = {\n",
    "    'user_id': 1234,\n",
    "    'transaction_date': '2019-03-02',\n",
    "}"
   ],
   "metadata": {
    "collapsed": false,
    "pycharm": {
     "name": "#%%\n"
    }
   }
  },
  {
   "cell_type": "markdown",
   "source": [
    "# 3. RUN JinjaSql from template to final SQL query"
   ],
   "metadata": {
    "collapsed": false,
    "pycharm": {
     "name": "#%% md\n"
    }
   }
  },
  {
   "cell_type": "code",
   "execution_count": 15,
   "outputs": [],
   "source": [
    "\"\"\"\n",
    "Import de la librairie\n",
    "instanciation de la class JinjaSql\n",
    "\"\"\"\n",
    "\n",
    "from jinjasql import JinjaSql\n",
    "j = JinjaSql(param_style='pyformat')\n"
   ],
   "metadata": {
    "collapsed": false,
    "pycharm": {
     "name": "#%%\n"
    }
   }
  },
  {
   "cell_type": "markdown",
   "source": [
    "### 3.1 Get query/params from prepare_query function"
   ],
   "metadata": {
    "collapsed": false,
    "pycharm": {
     "name": "#%% md\n"
    }
   }
  },
  {
   "cell_type": "code",
   "execution_count": 17,
   "outputs": [
    {
     "name": "stdout",
     "output_type": "stream",
     "text": [
      "##########\n",
      "La query : \n",
      "##########\n",
      "\n",
      "select\n",
      "    user_id\n",
      "    , count(*) as num_transactions\n",
      "    , sum(amount) as total_amount\n",
      "from\n",
      "    transactions\n",
      "where\n",
      "    user_id = %(user_id_1)s\n",
      "    and transaction_date = %(transaction_date_2)s\n",
      "group by\n",
      "    user_id\n",
      "-------------------------\n",
      "##########\n",
      "les paramètres : \n",
      "##########\n",
      "{'user_id_1': 1234, 'transaction_date_2': '2019-03-02'}\n"
     ]
    }
   ],
   "source": [
    "query, bind_params = j.prepare_query(user_transaction_template, params)\n",
    "print(\"#\"*10)\n",
    "print(\"La query : \")\n",
    "print(\"#\"*10)\n",
    "print(query)\n",
    "print(\"-------------------------\")\n",
    "print(\"#\"*10)\n",
    "print(\"les paramètres : \")\n",
    "print(\"#\"*10)\n",
    "print(bind_params)"
   ],
   "metadata": {
    "collapsed": false,
    "pycharm": {
     "name": "#%%\n"
    }
   }
  },
  {
   "cell_type": "markdown",
   "source": [
    "## 3.2 Génération de la requête finale"
   ],
   "metadata": {
    "collapsed": false,
    "pycharm": {
     "name": "#%% md\n"
    }
   }
  },
  {
   "cell_type": "markdown",
   "source": [],
   "metadata": {
    "collapsed": false,
    "pycharm": {
     "name": "#%% md\n"
    }
   }
  },
  {
   "cell_type": "code",
   "source": [
    "\"\"\"\n",
    "La requête avec les paramètres !\n",
    "\"\"\"\n",
    "print(query % bind_params)"
   ],
   "metadata": {
    "collapsed": false,
    "pycharm": {
     "name": "#%%\n"
    }
   },
   "execution_count": 24,
   "outputs": [
    {
     "name": "stdout",
     "output_type": "stream",
     "text": [
      "\n",
      "select\n",
      "    user_id\n",
      "    , count(*) as num_transactions\n",
      "    , sum(amount) as total_amount\n",
      "from\n",
      "    transactions\n",
      "where\n",
      "    user_id = 1234\n",
      "    and transaction_date = 2019-03-02\n",
      "group by\n",
      "    user_id\n"
     ]
    }
   ]
  },
  {
   "cell_type": "markdown",
   "source": [
    "### 3.3 Moduler la génération de la requête via une fonction"
   ],
   "metadata": {
    "collapsed": false,
    "pycharm": {
     "name": "#%% md\n"
    }
   }
  },
  {
   "cell_type": "code",
   "execution_count": 44,
   "outputs": [
    {
     "name": "stdout",
     "output_type": "stream",
     "text": [
      "args query : \n",
      "\n",
      "select\n",
      "    user_id\n",
      "    , count(*) as num_transactions\n",
      "    , sum(amount) as total_amount\n",
      "from\n",
      "    transactions\n",
      "where\n",
      "    user_id = {{ user_id }}\n",
      "    and transaction_date = {{ transaction_date }}\n",
      "group by\n",
      "    user_id\n",
      "\n",
      "\n",
      "params : \n",
      "{'user_id': 1234, 'transaction_date': '2019-03-02'}\n"
     ]
    }
   ],
   "source": [
    "\"\"\"\n",
    "recall\n",
    "of inputs function\n",
    "\"\"\"\n",
    "print(\"args query : \")\n",
    "print(user_transaction_template)\n",
    "print()\n",
    "print(\"params : \")\n",
    "print(params)"
   ],
   "metadata": {
    "collapsed": false,
    "pycharm": {
     "name": "#%%\n"
    }
   }
  },
  {
   "cell_type": "code",
   "execution_count": 45,
   "outputs": [],
   "source": [
    "from jinjasql import JinjaSql\n",
    "j = JinjaSql(param_style='pyformat')\n",
    "\n",
    "def get_sql_query_from_template_and_params(args_query, dict_params):\n",
    "    query, bind_params = j.prepare_query(user_transaction_template, params)\n",
    "    return query % bind_params\n",
    "\n",
    "with open('out.csv', 'w') as file_out:\n",
    "    file_out.write(get_sql_query_from_template_and_params(user_transaction_template, params))\n",
    "    file_out.close()"
   ],
   "metadata": {
    "collapsed": false,
    "pycharm": {
     "name": "#%%\n"
    }
   }
  }
 ],
 "metadata": {
  "kernelspec": {
   "display_name": "Python 3",
   "language": "python",
   "name": "python3"
  },
  "language_info": {
   "codemirror_mode": {
    "name": "ipython",
    "version": 2
   },
   "file_extension": ".py",
   "mimetype": "text/x-python",
   "name": "python",
   "nbconvert_exporter": "python",
   "pygments_lexer": "ipython2",
   "version": "2.7.6"
  }
 },
 "nbformat": 4,
 "nbformat_minor": 0
}